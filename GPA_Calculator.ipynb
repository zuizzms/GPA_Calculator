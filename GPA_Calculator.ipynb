{
  "cells": [
    {
      "cell_type": "code",
      "execution_count": null,
      "metadata": {
        "colab": {
          "base_uri": "https://localhost:8080/"
        },
        "id": "Vq-OBUmaom2W",
        "outputId": "69bda4dc-c580-4cee-c5dc-94e95716a528"
      },
      "outputs": [
        {
          "ename": "",
          "evalue": "",
          "output_type": "error",
          "traceback": [
            "\u001b[1;31mFailed to start the Kernel. \n",
            "\u001b[1;31mUnable to start Kernel 'Python 3.10.5' due to connection timeout. \n",
            "\u001b[1;31mView Jupyter <a href='command:jupyter.viewOutput'>log</a> for further details."
          ]
        }
      ],
      "source": [
        "# define a function to first calculate GPA\n",
        "def calculate_gpa(grades):\n",
        "    \"\"\"\n",
        "    This function takes in a list of grades and returns the calculated GPA.\n",
        "    \"\"\"\n",
        "    total_points = 0\n",
        "    total_credits = 0\n",
        "    \n",
        "    # define the grade points for each grade\n",
        "    grade_points = {\n",
        "        'A': 4.0,\n",
        "        'A-': 3.7,\n",
        "        'B+': 3.3,\n",
        "        'B': 3.0,\n",
        "        'B-': 2.7,\n",
        "        'C+': 2.3,\n",
        "        'C': 2.0,\n",
        "        'C-': 1.7,\n",
        "        'D+': 1.3,\n",
        "        'D': 1.0,\n",
        "        'F': 0.0\n",
        "    }\n",
        "    \n",
        "    # loop through each grade and credit to calculate total points and credits\n",
        "    for grade, credit in grades:\n",
        "        total_points += grade_points[grade] * credit\n",
        "        total_credits += credit\n",
        "    \n",
        "    # return calculated GPA\n",
        "    return round(total_points / total_credits, 2)\n",
        "\n",
        "# ask the user of the app for their grades\n",
        "grades = []\n",
        "while True:\n",
        "    grade = input(\"What was your grade for this class (or 'q' when you've finished adding in your classes): \")\n",
        "    if grade == 'q':\n",
        "        break\n",
        "    credit = float(input(\"How many credits does this class have?: \"))\n",
        "    grades.append((grade, credit))\n",
        "\n",
        "# calculate and print the final GPA\n",
        "gpa = calculate_gpa(grades)\n",
        "print(\"Your GPA is:\", gpa)"
      ]
    }
  ],
  "metadata": {
    "colab": {
      "provenance": []
    },
    "kernelspec": {
      "display_name": "Python 3",
      "language": "python",
      "name": "python3"
    },
    "language_info": {
      "name": "python",
      "version": "3.10.5"
    },
    "vscode": {
      "interpreter": {
        "hash": "e1c1fc8a21118531c4e93293e5acebb9cf838012c980c5a36060619555e3ee74"
      }
    }
  },
  "nbformat": 4,
  "nbformat_minor": 0
}
